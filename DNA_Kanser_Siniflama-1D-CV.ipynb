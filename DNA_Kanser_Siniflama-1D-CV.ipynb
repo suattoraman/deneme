{
 "cells": [
  {
   "cell_type": "code",
   "execution_count": 111,
   "metadata": {},
   "outputs": [],
   "source": [
    "import numpy as np\n",
    "from keras.models import Model, Input, Sequential\n",
    "from keras.activations import relu\n",
    "from sklearn.model_selection import StratifiedKFold\n",
    "from keras.optimizers import Adam\n",
    "from sklearn.metrics import accuracy_score, precision_score, recall_score,f1_score, confusion_matrix\n",
    "from keras.layers import Activation, BatchNormalization, Conv1D, Dense, MaxPooling1D, Flatten, Dropout"
   ]
  },
  {
   "cell_type": "code",
   "execution_count": 102,
   "metadata": {},
   "outputs": [],
   "source": [
    "from mat4py import loadmat\n",
    "TrainNormal = loadmat('D:\\\\Bihter\\\\Kanser Sınıflama Makalesi\\\\Kanser_Entropy-5birim.mat')"
   ]
  },
  {
   "cell_type": "code",
   "execution_count": 103,
   "metadata": {},
   "outputs": [
    {
     "data": {
      "text/plain": [
       "dict_keys(['DataS', 'DataH'])"
      ]
     },
     "execution_count": 103,
     "metadata": {},
     "output_type": "execute_result"
    }
   ],
   "source": [
    "TrainNormal.keys()"
   ]
  },
  {
   "cell_type": "code",
   "execution_count": 104,
   "metadata": {},
   "outputs": [],
   "source": [
    "TrainS = TrainNormal['DataS']\n",
    "TrainH = TrainNormal['DataH']"
   ]
  },
  {
   "cell_type": "code",
   "execution_count": 105,
   "metadata": {},
   "outputs": [
    {
     "data": {
      "text/plain": [
       "((1368, 100), (1368, 100))"
      ]
     },
     "execution_count": 105,
     "metadata": {},
     "output_type": "execute_result"
    }
   ],
   "source": [
    "TrainS = np.array(TrainS)\n",
    "TrainH = np.array(TrainH)\n",
    "TrainS.shape, TrainH.shape"
   ]
  },
  {
   "cell_type": "code",
   "execution_count": 106,
   "metadata": {},
   "outputs": [
    {
     "data": {
      "text/plain": [
       "1368"
      ]
     },
     "execution_count": 106,
     "metadata": {},
     "output_type": "execute_result"
    }
   ],
   "source": [
    "boyut = TrainS.shape[0]\n",
    "boyut"
   ]
  },
  {
   "cell_type": "code",
   "execution_count": 107,
   "metadata": {},
   "outputs": [
    {
     "data": {
      "text/plain": [
       "((2736, 100, 1), (2736, 100))"
      ]
     },
     "execution_count": 107,
     "metadata": {},
     "output_type": "execute_result"
    }
   ],
   "source": [
    "X_train2 = np.concatenate((TrainS, TrainH), axis=0)\n",
    "X = np.expand_dims(X_train2, axis=2)\n",
    "\n",
    "X.shape, X_train2.shape"
   ]
  },
  {
   "cell_type": "code",
   "execution_count": 108,
   "metadata": {},
   "outputs": [
    {
     "data": {
      "text/plain": [
       "(2736,)"
      ]
     },
     "execution_count": 108,
     "metadata": {},
     "output_type": "execute_result"
    }
   ],
   "source": [
    "from keras.utils import to_categorical\n",
    "\n",
    "Y = np.zeros(boyut*2)\n",
    "Y[boyut:] = 1\n",
    "#Y = to_categorical(Y)\n",
    "Y.shape"
   ]
  },
  {
   "cell_type": "code",
   "execution_count": 112,
   "metadata": {},
   "outputs": [
    {
     "name": "stdout",
     "output_type": "stream",
     "text": [
      "Accuracy: 0.744526\n",
      "Precision: 0.770161\n",
      "Recall: 0.697080\n",
      "F1 score: 0.731801\n",
      "[[217  57]\n",
      " [ 83 191]]\n",
      "acc: 74.45%\n",
      "Accuracy: 0.667883\n",
      "Precision: 0.632184\n",
      "Recall: 0.802920\n",
      "F1 score: 0.707395\n",
      "[[146 128]\n",
      " [ 54 220]]\n",
      "acc: 66.79%\n",
      "Accuracy: 0.773723\n",
      "Precision: 0.755102\n",
      "Recall: 0.810219\n",
      "F1 score: 0.781690\n",
      "[[202  72]\n",
      " [ 52 222]]\n",
      "acc: 77.37%\n",
      "Accuracy: 0.609890\n",
      "Precision: 0.806122\n",
      "Recall: 0.289377\n",
      "F1 score: 0.425876\n",
      "[[254  19]\n",
      " [194  79]]\n",
      "acc: 60.99%\n",
      "Accuracy: 0.763736\n",
      "Precision: 0.703390\n",
      "Recall: 0.912088\n",
      "F1 score: 0.794258\n",
      "[[168 105]\n",
      " [ 24 249]]\n",
      "acc: 76.37%\n",
      "71.20% (+/- 6.31%)\n"
     ]
    }
   ],
   "source": [
    "# define 5-fold cross validation test harness\n",
    "kfold = StratifiedKFold(n_splits=5, shuffle=False)\n",
    "cvscores = []\n",
    "for train, test in kfold.split(X, Y):\n",
    "    Y_cat = to_categorical(Y)# Y_categorical burada kullanmamızın sebebi önce yaparsak \n",
    "    #StratifiedKFold 1d istiyor ve ozaman hata veriyor. 1d şekilnde sistemi çalıştırmak istiyorsak\n",
    "    # categorical yapmamdan o zaman Aşağıda Dense(1), softmax yerine sigmoid ve categorical_crossentropy yerine\n",
    "    #binary_crossentropy yazmamız gerekir.\n",
    "    #https://stackoverflow.com/questions/48508036/sklearn-stratifiedkfold-valueerror-supported-target-types-are-binary-mul\n",
    "    \n",
    "    model = Sequential()\n",
    "    model.add(Conv1D(filters=16, kernel_size=5, strides=1, input_shape=(100, 1), activation='relu', padding='same'))\n",
    "    model.add(Conv1D(filters=16, kernel_size=3, strides=1, activation='relu', padding='same'))\n",
    "    model.add(MaxPooling1D(pool_size=2, strides=2 ))\n",
    "    #model.add((Dropout(0.1)))\n",
    "\n",
    "\n",
    "    model.add(Conv1D(filters=32, kernel_size=5, strides=1, activation='relu', padding='same'))\n",
    "    model.add(MaxPooling1D(pool_size=2, strides=2 ))\n",
    "    model.add(Conv1D(filters=64, kernel_size=3, strides=1, activation='relu', padding='same'))\n",
    "    model.add(MaxPooling1D(pool_size=2, strides=2 ))\n",
    "\n",
    "    #model.add(MaxPooling1D(pool_size=2, strides=2 ))          \n",
    "    model.add(BatchNormalization())\n",
    "\n",
    "    model.add(Flatten())\n",
    "    model.add(Dense(512, activation='relu' ))\n",
    "    #model.add(Dense(128, activation='relu' ))\n",
    "    model.add(Dense(64, activation='relu' ))\n",
    "\n",
    "    model.add(Dense(2))\n",
    "    model.add(Activation('softmax'))\n",
    "    \n",
    "    adam = Adam(lr=0.00001, decay=1e-3)\n",
    "    model.compile(loss='categorical_crossentropy', optimizer=adam, metrics=['accuracy'])\n",
    "    \n",
    "    model.fit(X, Y_cat, epochs=10, batch_size=64,verbose=0, \n",
    "              validation_split=0.2, shuffle='True')\n",
    "    scores = model.evaluate(X[test], Y_cat[test], verbose=0)\n",
    "    \n",
    "    \n",
    "    \n",
    "    #XXXXXXXX Bu arayı ben koydum XXXXXXXXXXXXXX\n",
    "    #XXXXXXXXXXXXXXXXXXXXXXXXXXXXXXXXXXXXXXXXXXX\n",
    "    \n",
    "    # predict probabilities for test set\n",
    "    yhat_probs = model.predict(X[test], verbose=0)\n",
    "    # predict crisp classes for test set\n",
    "    yhat_classes = model.predict_classes(X[test], verbose=0)\n",
    "    #print(\"yhat_prob\", yhat_probs.shape)\n",
    "    #print(\"yhat_class\", yhat_classes.shape)\n",
    "    \n",
    "    #The predictions are returned in a two-dimensional array, with one row \n",
    "    #for each example in the test dataset and one column for the prediction.\n",
    "\n",
    "    #The scikit-learn metrics API expects a 1D array of actual and \n",
    "    #predicted values for comparison, therefore, we must reduce \n",
    "    #the 2D prediction arrays to 1D arrays.\n",
    "    # reduce to 1d array\n",
    "    yhat_probs = yhat_probs[:, 0]\n",
    "    #yhat_classes = yhat_classes[:, 0]\n",
    "    \n",
    "    # accuracy: (tp + tn) / (p + n)\n",
    "    accuracy = accuracy_score(Y[test], yhat_classes)\n",
    "    print('Accuracy: %f' % accuracy)\n",
    "    # precision tp / (tp + fp)\n",
    "    precision = precision_score(Y[test], yhat_classes)\n",
    "    print('Precision: %f' % precision)\n",
    "    # recall: tp / (tp + fn)\n",
    "    recall = recall_score(Y[test], yhat_classes)\n",
    "    print('Recall: %f' % recall)\n",
    "    # f1: 2 tp / (2 tp + fp + fn)\n",
    "    f1 = f1_score(Y[test], yhat_classes)\n",
    "    print('F1 score: %f' % f1)\n",
    "    \n",
    "    matrix = confusion_matrix(Y[test], yhat_classes)\n",
    "    print(matrix)\n",
    "    \n",
    "    #XXXXXXXX Buraya kadar XXXXXXXXXXXXXX\n",
    "    #XXXXXXXXXXXXXXXXXXXXXXXXXXXXXXXXXXXX\n",
    "    \n",
    "    \n",
    "    \n",
    "    print(\"%s: %.2f%%\" % (model.metrics_names[1], scores[1]*100))\n",
    "    cvscores.append(scores[1] * 100)\n",
    "print(\"%.2f%% (+/- %.2f%%)\" % (np.mean(cvscores), np.std(cvscores)))"
   ]
  },
  {
   "cell_type": "code",
   "execution_count": null,
   "metadata": {},
   "outputs": [],
   "source": []
  },
  {
   "cell_type": "code",
   "execution_count": null,
   "metadata": {},
   "outputs": [],
   "source": [
    "acc: 84.49%\n",
    "acc: 80.84%\n",
    "acc: 92.34%\n",
    "acc: 95.24%\n",
    "acc: 88.46%\n",
    "88.27% (+/- 5.19%)\n",
    "\n"
   ]
  },
  {
   "cell_type": "code",
   "execution_count": 29,
   "metadata": {},
   "outputs": [
    {
     "data": {
      "image/png": "[encoded data removed]",
      "text/plain": [
       "<Figure size 432x288 with 1 Axes>"
      ]
     },
     "metadata": {},
     "output_type": "display_data"
    }
   ],
   "source": [
    "import matplotlib.pyplot as plt \n",
    "plt.plot(h.history['acc'])\n",
    "plt.plot(h.history['val_acc'])\n",
    "plt.legend(['Training', 'Validation'])\n",
    "plt.title('Accuracy')\n",
    "plt.xlabel('Epochs')\n",
    "plt.axis([0, 110, .5, 1])\n",
    "plt.grid(True)\n",
    "plt.show()"
   ]
  },
  {
   "cell_type": "code",
   "execution_count": null,
   "metadata": {},
   "outputs": [],
   "source": []
  },
  {
   "cell_type": "code",
   "execution_count": 30,
   "metadata": {},
   "outputs": [
    {
     "data": {
      "image/png": "[encoded data removed]",
      "text/plain": [
       "<Figure size 432x288 with 1 Axes>"
      ]
     },
     "metadata": {},
     "output_type": "display_data"
    }
   ],
   "source": [
    "plt.plot(h.history['loss'])\n",
    "plt.plot(h.history['val_loss'])\n",
    "plt.title('model loss')\n",
    "plt.ylabel('loss')\n",
    "plt.xlabel('epoch')\n",
    "\n",
    "plt.legend(['train', 'validation'], loc='upper left')\n",
    "plt.axis([0, 20, 0.1, .8])\n",
    "plt.grid(True)\n",
    "plt.show()"
   ]
  },
  {
   "cell_type": "code",
   "execution_count": null,
   "metadata": {},
   "outputs": [],
   "source": [
    "scores = model.evaluate(X_test, y_test_cat, verbose=1)\n",
    "print(\"Accuracy: %.2f%%\" % (scores[1]*100))"
   ]
  },
  {
   "cell_type": "code",
   "execution_count": null,
   "metadata": {},
   "outputs": [],
   "source": []
  }
 ],
 "metadata": {
  "kernelspec": {
   "display_name": "Python 3",
   "language": "python",
   "name": "python3"
  },
  "language_info": {
   "codemirror_mode": {
    "name": "ipython",
    "version": 3
   },
   "file_extension": ".py",
   "mimetype": "text/x-python",
   "name": "python",
   "nbconvert_exporter": "python",
   "pygments_lexer": "ipython3",
   "version": "3.5.4"
  }
 },
 "nbformat": 4,
 "nbformat_minor": 2
}
